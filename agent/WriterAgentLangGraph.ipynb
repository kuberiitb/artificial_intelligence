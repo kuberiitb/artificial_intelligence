{
  "nbformat": 4,
  "nbformat_minor": 0,
  "metadata": {
    "colab": {
      "provenance": [],
      "authorship_tag": "ABX9TyNYoiz6qq9su4Ef2zqCsigp",
      "include_colab_link": true
    },
    "kernelspec": {
      "name": "python3",
      "display_name": "Python 3"
    },
    "language_info": {
      "name": "python"
    }
  },
  "cells": [
    {
      "cell_type": "markdown",
      "metadata": {
        "id": "view-in-github",
        "colab_type": "text"
      },
      "source": [
        "<a href=\"https://colab.research.google.com/github/kuberiitb/artificial_intelligence/blob/main/agent/WriterAgentLangGraph.ipynb\" target=\"_parent\"><img src=\"https://colab.research.google.com/assets/colab-badge.svg\" alt=\"Open In Colab\"/></a>"
      ]
    },
    {
      "cell_type": "code",
      "execution_count": 7,
      "metadata": {
        "id": "EFRwAe-hOkeC",
        "colab": {
          "base_uri": "https://localhost:8080/"
        },
        "outputId": "f61a6bab-dd73-4492-b9e5-082f79c5d4bd"
      },
      "outputs": [
        {
          "output_type": "stream",
          "name": "stdout",
          "text": [
            "\u001b[2K     \u001b[90m━━━━━━━━━━━━━━━━━━━━━━━━━━━━━━━━━━━━━━━━\u001b[0m \u001b[32m43.7/43.7 kB\u001b[0m \u001b[31m2.1 MB/s\u001b[0m eta \u001b[36m0:00:00\u001b[0m\n",
            "\u001b[2K   \u001b[90m━━━━━━━━━━━━━━━━━━━━━━━━━━━━━━━━━━━━━━━━\u001b[0m \u001b[32m2.5/2.5 MB\u001b[0m \u001b[31m22.4 MB/s\u001b[0m eta \u001b[36m0:00:00\u001b[0m\n",
            "\u001b[2K   \u001b[90m━━━━━━━━━━━━━━━━━━━━━━━━━━━━━━━━━━━━━━━━\u001b[0m \u001b[32m75.6/75.6 kB\u001b[0m \u001b[31m5.3 MB/s\u001b[0m eta \u001b[36m0:00:00\u001b[0m\n",
            "\u001b[2K   \u001b[90m━━━━━━━━━━━━━━━━━━━━━━━━━━━━━━━━━━━━━━━━\u001b[0m \u001b[32m154.8/154.8 kB\u001b[0m \u001b[31m10.0 MB/s\u001b[0m eta \u001b[36m0:00:00\u001b[0m\n",
            "\u001b[2K   \u001b[90m━━━━━━━━━━━━━━━━━━━━━━━━━━━━━━━━━━━━━━━━\u001b[0m \u001b[32m43.9/43.9 kB\u001b[0m \u001b[31m2.7 MB/s\u001b[0m eta \u001b[36m0:00:00\u001b[0m\n",
            "\u001b[2K   \u001b[90m━━━━━━━━━━━━━━━━━━━━━━━━━━━━━━━━━━━━━━━━\u001b[0m \u001b[32m56.8/56.8 kB\u001b[0m \u001b[31m3.6 MB/s\u001b[0m eta \u001b[36m0:00:00\u001b[0m\n",
            "\u001b[2K   \u001b[90m━━━━━━━━━━━━━━━━━━━━━━━━━━━━━━━━━━━━━━━━\u001b[0m \u001b[32m64.7/64.7 kB\u001b[0m \u001b[31m4.6 MB/s\u001b[0m eta \u001b[36m0:00:00\u001b[0m\n",
            "\u001b[2K   \u001b[90m━━━━━━━━━━━━━━━━━━━━━━━━━━━━━━━━━━━━━━━━\u001b[0m \u001b[32m50.9/50.9 kB\u001b[0m \u001b[31m3.2 MB/s\u001b[0m eta \u001b[36m0:00:00\u001b[0m\n",
            "\u001b[2K   \u001b[90m━━━━━━━━━━━━━━━━━━━━━━━━━━━━━━━━━━━━━━━━\u001b[0m \u001b[32m216.7/216.7 kB\u001b[0m \u001b[31m13.5 MB/s\u001b[0m eta \u001b[36m0:00:00\u001b[0m\n",
            "\u001b[?25h\u001b[31mERROR: pip's dependency resolver does not currently take into account all the packages that are installed. This behaviour is the source of the following dependency conflicts.\n",
            "google-colab 1.0.0 requires requests==2.32.4, but you have requests 2.32.5 which is incompatible.\u001b[0m\u001b[31m\n",
            "\u001b[0m"
          ]
        }
      ],
      "source": [
        "!pip install langchain langchain_community langchain-openai langgraph --quiet"
      ]
    },
    {
      "cell_type": "code",
      "source": [
        "import os\n",
        "from langchain.memory import ConversationBufferWindowMemory"
      ],
      "metadata": {
        "id": "BnBx-cQlPV47"
      },
      "execution_count": 8,
      "outputs": []
    },
    {
      "cell_type": "code",
      "source": [
        "from dotenv import load_dotenv\n",
        "load_dotenv(\".env\")"
      ],
      "metadata": {
        "colab": {
          "base_uri": "https://localhost:8080/"
        },
        "id": "DD09jynQSuDd",
        "outputId": "9660f157-fdc0-4354-e4c4-d0a772e37b57"
      },
      "execution_count": 9,
      "outputs": [
        {
          "output_type": "execute_result",
          "data": {
            "text/plain": [
              "True"
            ]
          },
          "metadata": {},
          "execution_count": 9
        }
      ]
    },
    {
      "cell_type": "code",
      "source": [
        "from langchain.chat_models import ChatOpenAI\n",
        "\n",
        "if not os.environ[\"OPENAI_API_KEY\"]:\n",
        "    os.environ[\"OPENAI_API_KEY\"] = os.getenv(\"OPENAI_API_KEY\")\n",
        "\n",
        "llm = ChatOpenAI(model=\"gpt-4o-mini\", temperature=0.1)\n",
        "\n",
        "from langchain.chat_models import init_chat_model\n",
        "\n",
        "llm = init_chat_model(\"gpt-4o-mini\", model_provider=\"openai\")"
      ],
      "metadata": {
        "id": "Rimz3dC8RkFe",
        "colab": {
          "base_uri": "https://localhost:8080/"
        },
        "outputId": "fb79b9fe-f727-4d70-b333-b223a74680fb"
      },
      "execution_count": 10,
      "outputs": [
        {
          "output_type": "stream",
          "name": "stderr",
          "text": [
            "/tmp/ipython-input-3350033213.py:6: LangChainDeprecationWarning: The class `ChatOpenAI` was deprecated in LangChain 0.0.10 and will be removed in 1.0. An updated version of the class exists in the :class:`~langchain-openai package and should be used instead. To use it run `pip install -U :class:`~langchain-openai` and import as `from :class:`~langchain_openai import ChatOpenAI``.\n",
            "  llm = ChatOpenAI(model=\"gpt-4o-mini\", temperature=0.1)\n"
          ]
        }
      ]
    },
    {
      "cell_type": "code",
      "source": [
        "llm.invoke(\"Hi\").content"
      ],
      "metadata": {
        "colab": {
          "base_uri": "https://localhost:8080/",
          "height": 36
        },
        "id": "EvHMUwglSiRr",
        "outputId": "7baa823f-2fd4-433a-8e45-fa3ee12671b9"
      },
      "execution_count": 11,
      "outputs": [
        {
          "output_type": "execute_result",
          "data": {
            "text/plain": [
              "'Hello! How can I assist you today?'"
            ],
            "application/vnd.google.colaboratory.intrinsic+json": {
              "type": "string"
            }
          },
          "metadata": {},
          "execution_count": 11
        }
      ]
    },
    {
      "cell_type": "markdown",
      "source": [
        "### Let's create a workflow(simpler form of Agent) to generate a Medium article and a promotional Linkedin post for a given topic."
      ],
      "metadata": {
        "id": "aErJcvNdkOUA"
      }
    },
    {
      "cell_type": "code",
      "source": [
        "from typing import Annotated\n",
        "from typing_extensions import TypedDict"
      ],
      "metadata": {
        "id": "nBicbR0yHrYU"
      },
      "execution_count": 12,
      "outputs": []
    },
    {
      "cell_type": "code",
      "source": [
        "from langgraph.graph.message import add_messages\n",
        "#Annotated[list, add_messages]\n",
        "\n",
        "class State(TypedDict):\n",
        "  topic: str\n",
        "  medium_article: str\n",
        "  linkedin_post: str"
      ],
      "metadata": {
        "id": "XiQO3BqIhyZd"
      },
      "execution_count": 109,
      "outputs": []
    },
    {
      "cell_type": "markdown",
      "source": [
        "## Create Node for the Medium Article generation"
      ],
      "metadata": {
        "id": "TTCqpbWykfFV"
      }
    },
    {
      "cell_type": "code",
      "source": [
        "from langchain_core.prompts import ChatPromptTemplate\n",
        "medium_prompt = ChatPromptTemplate.from_messages(\n",
        "        [\n",
        "            (\"system\", \"\"\"You are a helpful assistant that writes articles for Medium on {topic} in 400-500 words .\n",
        "                          Writing style considerations:\n",
        "                          Vary punctuation naturally – don’t overuse em dashes. Prefer commas, colons, or short sentences when appropriate.\n",
        "\n",
        "                          Avoid formulaic contrast – don’t always frame points as “Some say X, but actually Y.” Only use contrast when it genuinely adds depth.\n",
        "\n",
        "                          Break list patterns – don’t always use three examples. Vary length and structure (2, 4, 5, or even just 1 strong example).\n",
        "\n",
        "                          Balance tone – avoid relentless positivity. Present both benefits and drawbacks, adding nuance and skepticism where needed.\n",
        "\n",
        "                          Use real sources – don’t drop generic quotes like “experts say” or unattributed sayings. If quoting, attribute it properly.\n",
        "\n",
        "                          Vary sentence structure – mix short and long sentences. Avoid repeating the same rhythm or starting multiple sentences the same way.\n",
        "\n",
        "                          Be concise – skip long, generic introductions. Get to the point quickly and avoid filler like “In today’s world…”\n",
        "\n",
        "                          Stay factual – don’t invent statistics, names, or references. If unsure, phrase cautiously (e.g., “some studies suggest”) or omit.\n",
        "\n",
        "                          Sound conversational but precise – write as if you’re explaining to a smart peer, not marketing to a crowd.\n",
        "\n",
        "                          Make the article technical, easy to understand, using some analogy with everyday examples.\n",
        "                          Start with an intution, discuss 3 main points and then summarize the article into one paragraph.\n",
        "                          End with a call to action from users, like sharing the article with friends, follow the blog or like the article.\n",
        "                          Also ask them to share their thougths in the comment.\"\"\"),\n",
        "            (\"human\", \"{topic}\"),\n",
        "        ]\n",
        "    )\n",
        "medium_chain = medium_prompt | llm\n",
        "\n",
        "def write_medium(state: State):\n",
        "  response = medium_chain.invoke(\n",
        "        {\n",
        "            \"topic\": state[\"topic\"],\n",
        "        }\n",
        "    )\n",
        "  return {\"medium_article\": [response.content]}"
      ],
      "metadata": {
        "id": "9eH3vSNxVn2A"
      },
      "execution_count": 110,
      "outputs": []
    },
    {
      "cell_type": "code",
      "source": [
        "topic = \"Use of iterators in python\"\n",
        "article_text = medium_chain.invoke(topic).content\n",
        "\n",
        "print(article_text)"
      ],
      "metadata": {
        "colab": {
          "base_uri": "https://localhost:8080/"
        },
        "id": "mI26fgnBXFGJ",
        "outputId": "7009e170-d9b2-4035-d1b4-9016f19c0e8d"
      },
      "execution_count": 111,
      "outputs": [
        {
          "output_type": "stream",
          "name": "stdout",
          "text": [
            "Iterators in Python are a powerful tool that can help you manage and manipulate data in a memory-efficient way. If you've ever dealt with large datasets or wanted to loop over a collection of items without consuming much memory, iterators probably crossed your path. They allow you to traverse through the elements without needing to load everything into memory. Let’s dive into their utility, some key benefits, and potential drawbacks.\n",
            "\n",
            "First, it’s essential to grasp what an iterator is in Python. At its core, an iterator is an object that implements two specific methods: `__iter__()` and `__next__()`. The former resets the iterator, while the latter fetches the next item. This behavior can be likened to a book where each page has a unique number: you can keep flipping through them one by one without needing to look at all the pages at once.\n",
            "\n",
            "One of the biggest advantages of using iterators is memory efficiency. Iterators produce items one at a time and only when requested, rather than storing them all in memory. This is particularly useful when dealing with large amounts of data, such as reading a file line by line or processing large streams of data in applications like data analytics or web scraping. For instance, using Python’s built-in `open()` function in conjunction with an iterator allows you to read a file without loading its entire content.\n",
            "\n",
            "Another significant benefit is the ability to work seamlessly with infinite sequences. For example, the `itertools` module provides a range of options for creating iterators. The `count()` function, for instance, can generate an infinite sequence of numbers starting from a specified value. This can be incredibly useful for tasks like generating unique IDs or timestamps in a data pipeline, where you may need to keep generating items until a certain condition is met.\n",
            "\n",
            "However, iterators are not without their challenges. A common downside is that once an iterator has traversed its elements, it cannot be reused. You cannot go back; it’s a one-way street. This means if you need to access previously viewed elements again, you will have to recreate the iterator. Additionally, writing custom iterators can be complex, especially for beginners.\n",
            "\n",
            "In summary, Python's iterators are invaluable tools for managing data efficiently, particularly in terms of memory usage and handling infinite sequences. They embody a useful abstraction that provides a lazy way to manage data without loading everything into memory at once. Just remember the trade-offs: once you’ve used up an iterator, you cannot revisit it without rebuilding it.\n",
            "\n",
            "If you found this exploration of iterators insightful, consider sharing it with friends who might benefit from a deeper understanding of Python. Feel free to follow this blog for more in-depth discussions. Lastly, I’d love to hear your thoughts—what has your experience with Python iterators been like? Share your insights in the comments!\n"
          ]
        }
      ]
    },
    {
      "cell_type": "markdown",
      "source": [
        "## Create Node for the LinkedIn post generation"
      ],
      "metadata": {
        "id": "ARZjGelIkouO"
      }
    },
    {
      "cell_type": "code",
      "source": [
        "from langchain_core.prompts import ChatPromptTemplate\n",
        "linkedin_prompt = ChatPromptTemplate.from_messages(\n",
        "        [\n",
        "            (\"system\", \"\"\"You are a helpful assistant that writes for Linkedin on {topic} in 50-100 words on medium blog.\n",
        "                        Linkedin post's objective is to channel linkedin audience to read the blog and increase blog's engagement.\n",
        "                        Make the post easy to read and engaging.\n",
        "                        Writing style considerations:\n",
        "                        Vary punctuation naturally – don’t overuse em dashes. Prefer commas, colons, or short sentences when appropriate.\n",
        "\n",
        "                        Avoid formulaic contrast – don’t always frame points as “Some say X, but actually Y.” Only use contrast when it genuinely adds depth.\n",
        "\n",
        "                        Break list patterns – don’t always use three examples. Vary length and structure (2, 4, 5, or even just 1 strong example).\n",
        "\n",
        "                        Balance tone – avoid relentless positivity. Present both benefits and drawbacks, adding nuance and skepticism where needed.\n",
        "\n",
        "                        Use real sources – don’t drop generic quotes like “experts say” or unattributed sayings. If quoting, attribute it properly.\n",
        "\n",
        "                        Vary sentence structure – mix short and long sentences. Avoid repeating the same rhythm or starting multiple sentences the same way.\n",
        "\n",
        "                        Be concise – skip long, generic introductions. Get to the point quickly and avoid filler like “In today’s world…”\n",
        "\n",
        "                        Stay factual – don’t invent statistics, names, or references. If unsure, phrase cautiously (e.g., “some studies suggest”) or omit.\n",
        "\n",
        "                        Sound conversational but precise – write as if you’re explaining to a smart peer, not marketing to a crowd.\n",
        "\n",
        "                        Blog's content is given here: {article}.\\n\\n\n",
        "                        Make the message professional, start with a hook, add some points from the article and end with a call to action from users,\n",
        "                        like read and share the medium article with friends.\"\"\"),\n",
        "            (\"human\", [\"{topic}\",\"{article}\"]),\n",
        "        ]\n",
        "    )\n",
        "linkedin_chain = linkedin_prompt | llm\n",
        "\n",
        "def write_linkedin(state: State):\n",
        "  response = linkedin_chain.invoke(\n",
        "        {\n",
        "            \"topic\": state[\"topic\"],\n",
        "            \"article\": state[\"medium_article\"]\n",
        "        }\n",
        "    )\n",
        "  return {\"linkedin_post\": [response.content]}\n"
      ],
      "metadata": {
        "id": "XyrZmfDIiMeS"
      },
      "execution_count": 112,
      "outputs": []
    },
    {
      "cell_type": "code",
      "source": [
        "linkedin_chain.invoke({\n",
        "            \"topic\":topic,\n",
        "            \"article\": article_text\n",
        "        }).content"
      ],
      "metadata": {
        "colab": {
          "base_uri": "https://localhost:8080/",
          "height": 109
        },
        "id": "Evh_LqaPT4km",
        "outputId": "1573314c-2b49-488f-97c5-5fef4453a6be"
      },
      "execution_count": 113,
      "outputs": [
        {
          "output_type": "execute_result",
          "data": {
            "text/plain": [
              "\"🚀 Ever wondered how to handle large datasets without sacrificing memory? Enter Python iterators. They're not just another feature; they are a game-changer! \\n\\nAt their core, iterators allow you to traverse data one item at a time. No more loading everything into memory. This can be invaluable for tasks like reading a file line by line or generating infinite sequences using the `itertools` module. However, remember, they have their downsides—once you've used an iterator, it’s a one-way street.\\n\\nCurious to explore more? Check out my latest blog post on the benefits and challenges of using Python iterators. If you find it valuable, please share it with your network! 💬 What are your experiences with Python iterators? Let’s discuss in the comments! \\n\\n🔗 [Read more on Medium]\""
            ],
            "application/vnd.google.colaboratory.intrinsic+json": {
              "type": "string"
            }
          },
          "metadata": {},
          "execution_count": 113
        }
      ]
    },
    {
      "cell_type": "markdown",
      "source": [
        "## Create the graph for workflow"
      ],
      "metadata": {
        "id": "c_RDYNfckv5D"
      }
    },
    {
      "cell_type": "code",
      "source": [
        "from langgraph.graph import StateGraph, START, END\n",
        "\n",
        "graph_builder = StateGraph(State)\n",
        "\n",
        "graph_builder.add_node(\"write_medium\", write_medium)\n",
        "graph_builder.add_node(\"write_linkedin\", write_linkedin)\n",
        "\n",
        "graph_builder.add_edge(START, \"write_medium\")\n",
        "graph_builder.add_edge(\"write_medium\", \"write_linkedin\")\n",
        "graph_builder.add_edge(\"write_linkedin\", END)\n",
        "\n",
        "graph = graph_builder.compile()"
      ],
      "metadata": {
        "id": "uzQ8lPIsiOLH"
      },
      "execution_count": 114,
      "outputs": []
    },
    {
      "cell_type": "code",
      "source": [
        "graph"
      ],
      "metadata": {
        "colab": {
          "base_uri": "https://localhost:8080/",
          "height": 350
        },
        "id": "u1KhFQjCixSS",
        "outputId": "8c4e2bc1-59fb-4731-fd29-8ede2e32de04"
      },
      "execution_count": 115,
      "outputs": [
        {
          "output_type": "execute_result",
          "data": {
            "text/plain": [
              "<langgraph.graph.state.CompiledStateGraph object at 0x7fe2357b1ca0>"
            ],
            "image/png": "[encoded data removed]"
          },
          "metadata": {},
          "execution_count": 115
        }
      ]
    },
    {
      "cell_type": "markdown",
      "source": [
        "## Try the workflow"
      ],
      "metadata": {
        "id": "g_SaxEFzk1ZZ"
      }
    },
    {
      "cell_type": "code",
      "source": [
        "workflow_output = graph.invoke({\"topic\": \"iterables in python\"})"
      ],
      "metadata": {
        "id": "chNT8r6NmTvX"
      },
      "execution_count": 116,
      "outputs": []
    },
    {
      "cell_type": "code",
      "source": [
        "workflow_output.keys()"
      ],
      "metadata": {
        "colab": {
          "base_uri": "https://localhost:8080/"
        },
        "id": "F5jq8A9blgwo",
        "outputId": "3cfc9a8f-4375-44e6-abc3-4e705080f7cb"
      },
      "execution_count": 117,
      "outputs": [
        {
          "output_type": "execute_result",
          "data": {
            "text/plain": [
              "dict_keys(['topic', 'medium_article', 'linkedin_post'])"
            ]
          },
          "metadata": {},
          "execution_count": 117
        }
      ]
    },
    {
      "cell_type": "code",
      "source": [
        "from IPython.display import display, HTML, Markdown\n",
        "\n",
        "display(Markdown(\"## Topic: \" + workflow_output[\"topic\"]))\n",
        "\n",
        "display(Markdown(\"## Medium Article:\"))\n",
        "display(Markdown(workflow_output[\"medium_article\"][0]))\n",
        "\n",
        "display(Markdown(\"## Linkedin Post:\"))\n",
        "display(Markdown(workflow_output[\"linkedin_post\"][0]))\n"
      ],
      "metadata": {
        "colab": {
          "base_uri": "https://localhost:8080/",
          "height": 982
        },
        "id": "PtTb4wgYZdG4",
        "outputId": "2f16fd60-958f-4b2a-a3e1-3a1c3f5936df"
      },
      "execution_count": 118,
      "outputs": [
        {
          "output_type": "display_data",
          "data": {
            "text/plain": [
              "<IPython.core.display.Markdown object>"
            ],
            "text/markdown": "## Topic: iterables in python"
          },
          "metadata": {}
        },
        {
          "output_type": "display_data",
          "data": {
            "text/plain": [
              "<IPython.core.display.Markdown object>"
            ],
            "text/markdown": "## Medium Article:"
          },
          "metadata": {}
        },
        {
          "output_type": "display_data",
          "data": {
            "text/plain": [
              "<IPython.core.display.Markdown object>"
            ],
            "text/markdown": "Iterables in Python are fundamental to the language’s design. At their core, iterables are objects capable of returning their members one at a time. This concept is crucial because it allows programmers to efficiently process data—think of it like reading a book one page at a time, rather than having to read everything at once. Let’s dig deeper into what iterables are, their characteristics, and their utility in Python.\n\n**Understanding Iterables and Iterators**\n\nAn iterable is anything that can be looped over—not just lists or tuples, but also strings, dictionaries, and sets. Each of these objects can be passed to Python’s `iter()` function, which converts them into an iterator. An iterator, in turn, keeps track of its current position in the iterable and allows you to access elements with the `next()` function.\n\nFor example, consider a list:\n\n```python\nnumbers = [1, 2, 3, 4, 5]\niterator = iter(numbers)\n\nprint(next(iterator))  # Output: 1\nprint(next(iterator))  # Output: 2\n```\n\nIn this snippet, the iterator yields numbers one at a time. This lazy evaluation mechanism can save memory, especially with large data sets.\n\n**Benefits of Using Iterables**\n\n1. **Memory Efficiency**: Since iterators yield items one at a time, they consume significantly less memory than collections that hold all their items at once. This characteristic becomes particularly useful when dealing with large volumes of data. For instance, reading a massive log file can be done on-the-fly, without loading the entire file into memory.\n\n2. **Support for Complex Data Structures**: Python’s built-in functions like `map()`, `filter()`, and `zip()` are designed to work seamlessly with iterables. This ability provides a powerful toolset for data manipulation and processing. Consider using `filter()` to extract even numbers from a list:\n\n```python\neven_numbers = filter(lambda x: x % 2 == 0, numbers)\nprint(list(even_numbers))  # Output: [2, 4]\n```\n\n3. **Chaining Operations**: With the use of generators, you can create concise and readable pipelines for data processing. Generators are a type of iterable that yield values one at a time and can be combined to form complex data processing workflows.\n\nHowever, there are limitations. For example, working with random access (like retrieving the nth item directly) isn’t possible with iterables as it is with lists or arrays. You need to iterate, step-by-step.\n\n**Common Use Cases**\n\nIterables shine in scenarios requiring performance and memory savings. They are commonly used in data processing tasks, such as reading files line by line or streaming data from web APIs. Moreover, their application extends to working with libraries such as `pandas`, where iterators help in efficient data manipulations.\n\nIn summary, understanding iterables in Python equips you with a vital tool for efficient data handling. Their memory-efficient design, compatibility with various data structures, and support for lazy evaluation offer flexibility for tackling both small and large datasets. \n\nHopefully, you found this exploration of iterables insightful. Did you learn something new about how to manage data in Python? If so, consider sharing this article with friends or following the blog for more insights. I’d love to hear your thoughts in the comments below!"
          },
          "metadata": {}
        },
        {
          "output_type": "display_data",
          "data": {
            "text/plain": [
              "<IPython.core.display.Markdown object>"
            ],
            "text/markdown": "## Linkedin Post:"
          },
          "metadata": {}
        },
        {
          "output_type": "display_data",
          "data": {
            "text/plain": [
              "<IPython.core.display.Markdown object>"
            ],
            "text/markdown": "Unlock the power of Python with iterables! 🐍✨ \n\nThese fundamental objects enable efficient data processing by allowing you to retrieve elements one at a time—think of it as savoring a good book, page by page. With iterables, memory usage decreases significantly, making them ideal for large datasets. They seamlessly integrate with functions like `map()`, `filter()`, and can even chain operations for streamlined workflows.\n\nCurious to learn more? Check out my latest blog post on iterables in Python and discover how this essential feature can elevate your coding game. Read and share with your network! Let’s deepen our understanding together. 💡📈"
          },
          "metadata": {}
        }
      ]
    },
    {
      "cell_type": "code",
      "source": [
        "workflow_output = graph.invoke({\"topic\": \"Impact of AI on Jobs and Poverty\"})"
      ],
      "metadata": {
        "id": "e3lETc77lBUy"
      },
      "execution_count": 119,
      "outputs": []
    },
    {
      "cell_type": "code",
      "source": [
        "from IPython.display import display, HTML, Markdown\n",
        "\n",
        "display(Markdown(\"## Topic: \" + workflow_output[\"topic\"]))\n",
        "\n",
        "display(Markdown(\"## Medium Article:\"))\n",
        "display(Markdown(workflow_output[\"medium_article\"][0]))\n",
        "\n",
        "display(Markdown(\"## Linkedin Post:\"))\n",
        "display(Markdown(workflow_output[\"linkedin_post\"][0]))\n"
      ],
      "metadata": {
        "colab": {
          "base_uri": "https://localhost:8080/",
          "height": 728
        },
        "id": "OLGhP_volNnT",
        "outputId": "17b1588f-5a56-492d-b178-b8ab06765084"
      },
      "execution_count": 120,
      "outputs": [
        {
          "output_type": "display_data",
          "data": {
            "text/plain": [
              "<IPython.core.display.Markdown object>"
            ],
            "text/markdown": "## Topic: Impact of AI on Jobs and Poverty"
          },
          "metadata": {}
        },
        {
          "output_type": "display_data",
          "data": {
            "text/plain": [
              "<IPython.core.display.Markdown object>"
            ],
            "text/markdown": "## Medium Article:"
          },
          "metadata": {}
        },
        {
          "output_type": "display_data",
          "data": {
            "text/plain": [
              "<IPython.core.display.Markdown object>"
            ],
            "text/markdown": "AI is reshaping the labor market in unprecedented ways. As we stand on the brink of a technological revolution, it’s vital to understand the impacts of artificial intelligence on jobs and poverty—not just in terms of automation but also how it might transform the nature of work itself.\n\nFirstly, the reality of job displacement is becoming more pronounced. Many industries, particularly those involving routine tasks, are seeing significant automation thanks to AI technology. According to a report from McKinsey, up to 800 million jobs could be displaced worldwide by 2030. This has led to mounting concerns for low-skilled workers. Take, for instance, the rise of autonomous vehicles. Truck drivers and delivery personnel may find their livelihoods under threat as companies increasingly adopt AI for logistics and transportation. However, while some jobs are lost, new opportunities are also emerging in different sectors, especially those that require human creativity or complex problem-solving.\n\nSecondly, AI has the potential to exacerbate socioeconomic disparities. Those who have access to technology and the skills to harness it may thrive, while individuals in lower-income communities may struggle to keep pace. A study by the World Economic Forum concluded that while AI can create more jobs than it displaces, these jobs tend to require higher levels of education and expertise. The gap between those who can adapt and those who cannot is widening, creating a challenging cycle of poverty. For example, teachers and workers in fields like healthcare may find that AI enhances their abilities, but individuals without the means to gain new skills could be left behind.\n\nOn a more positive note, AI also presents opportunities to improve productivity and efficiency in various sectors. This can lead to lower costs for consumers and even the potential for economic growth. For instance, AI-driven analytics can optimize supply chains, reducing waste and boosting profit margins for businesses. Companies that thrive in this new landscape might, in turn, create new job opportunities. Furthermore, AI can assist in areas like personalized education or remote healthcare, potentially providing valuable support to disadvantaged communities.\n\nIn summary, while AI holds promise for economic growth, it also harbors complexities that impact jobs and exacerbate poverty. The challenge lies in ensuring that the benefits of AI are shared equitably. Policymakers, educators, and business leaders must prioritize accessible training programs and equitable tech distribution to mitigate the adverse effects. \n\nThe demand for a more adaptable workforce is clear, and now, more than ever, it’s essential to question how we can bridge the widening gap. AI offers a plethora of possibilities, but it should not come at the cost of our most vulnerable populations. I invite you to share your thoughts on the impact of AI in the comments below. If you found this perspective insightful, please consider sharing it with your friends or following this blog for more insights on the intersection of technology and society."
          },
          "metadata": {}
        },
        {
          "output_type": "display_data",
          "data": {
            "text/plain": [
              "<IPython.core.display.Markdown object>"
            ],
            "text/markdown": "## Linkedin Post:"
          },
          "metadata": {}
        },
        {
          "output_type": "display_data",
          "data": {
            "text/plain": [
              "<IPython.core.display.Markdown object>"
            ],
            "text/markdown": "🔍 AI is transforming the labor market—and its impact on jobs and poverty deserves attention. A report by McKinsey indicates that by 2030, up to 800 million jobs could be displaced globally due to automation. While some sectors face job losses—like truck drivers with autonomous vehicles—others may thrive, particularly where human creativity is essential.\n\nHowever, this technological shift risks widening socioeconomic gaps. Those without access to training and resources may struggle to adapt, leaving them behind. Yet, with AI, there are also opportunities for greater efficiency and productivity, potentially supporting disadvantaged communities through enhanced education and healthcare.\n\nHow can we ensure the benefits of AI are shared fairly? Explore these complexities in my latest blog. Let’s engage in the conversation and think about solutions together! If you find it insightful, please read and share it with your network. 📚💡"
          },
          "metadata": {}
        }
      ]
    },
    {
      "cell_type": "markdown",
      "source": [
        "### Next, we can generate an image for the article and another one for linkedin post."
      ],
      "metadata": {
        "id": "taSE3Kgrk8K0"
      }
    },
    {
      "cell_type": "code",
      "source": [],
      "metadata": {
        "id": "_-zbUsVmldol"
      },
      "execution_count": 120,
      "outputs": []
    }
  ]
}